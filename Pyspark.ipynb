{
 "cells": [
  {
   "cell_type": "code",
   "execution_count": 22,
   "outputs": [
    {
     "name": "stdout",
     "text": [
      "+---+-----------------+-----------+----+--------------------+---+---+---+---+---+----+----+----+----+----+----+----+----+----+----+----+----+----+----+\n|_c0|              _c1|        _c2| _c3|                 _c4|_c5|_c6|_c7|_c8|_c9|_c10|_c11|_c12|_c13|_c14|_c15|_c16|_c17|_c18|_c19|_c20|_c21|_c22|_c23|\n+---+-----------------+-----------+----+--------------------+---+---+---+---+---+----+----+----+----+----+----+----+----+----+----+----+----+----+----+\n|  1| Toy Story (1995)|01-Jan-1995|null|http://us.imdb.co...|  0|  0|  0|  1|  1|   1|   0|   0|   0|   0|   0|   0|   0|   0|   0|   0|   0|   0|   0|\n|  2| GoldenEye (1995)|01-Jan-1995|null|http://us.imdb.co...|  0|  1|  1|  0|  0|   0|   0|   0|   0|   0|   0|   0|   0|   0|   0|   0|   1|   0|   0|\n|  3|Four Rooms (1995)|01-Jan-1995|null|http://us.imdb.co...|  0|  0|  0|  0|  0|   0|   0|   0|   0|   0|   0|   0|   0|   0|   0|   0|   1|   0|   0|\n+---+-----------------+-----------+----+--------------------+---+---+---+---+---+----+----+----+----+----+----+----+----+----+----+----+----+----+----+\nonly showing top 3 rows\n\n"
     ],
     "output_type": "stream"
    }
   ],
   "source": [
    "from pyspark.sql import SparkSession\n",
    "from pyspark.ml.feature import Tokenizer, RegexTokenizer\n",
    "from pyspark.sql.functions import col, udf\n",
    "from pyspark.sql.types import IntegerType\n",
    "spark = SparkSession.builder.appName('nlp').getOrCreate()\n",
    "df = spark.read.csv('u.item', sep='|')\n",
    "df.show(3)"
   ],
   "metadata": {
    "collapsed": false,
    "pycharm": {
     "name": "#%%\n",
     "is_executing": false
    }
   }
  },
  {
   "cell_type": "code",
   "execution_count": 23,
   "outputs": [
    {
     "name": "stdout",
     "text": [
      "root\n |-- _c0: string (nullable = true)\n |-- _c1: string (nullable = true)\n |-- _c2: string (nullable = true)\n |-- _c3: string (nullable = true)\n |-- _c4: string (nullable = true)\n |-- _c5: string (nullable = true)\n |-- _c6: string (nullable = true)\n |-- _c7: string (nullable = true)\n |-- _c8: string (nullable = true)\n |-- _c9: string (nullable = true)\n |-- _c10: string (nullable = true)\n |-- _c11: string (nullable = true)\n |-- _c12: string (nullable = true)\n |-- _c13: string (nullable = true)\n |-- _c14: string (nullable = true)\n |-- _c15: string (nullable = true)\n |-- _c16: string (nullable = true)\n |-- _c17: string (nullable = true)\n |-- _c18: string (nullable = true)\n |-- _c19: string (nullable = true)\n |-- _c20: string (nullable = true)\n |-- _c21: string (nullable = true)\n |-- _c22: string (nullable = true)\n |-- _c23: string (nullable = true)\n\n"
     ],
     "output_type": "stream"
    }
   ],
   "source": [
    "df.printSchema()\n"
   ],
   "metadata": {
    "collapsed": false,
    "pycharm": {
     "name": "#%%\n",
     "is_executing": false
    }
   }
  },
  {
   "cell_type": "code",
   "execution_count": 24,
   "outputs": [],
   "source": [
    "df = df.select(df.columns[0:5])"
   ],
   "metadata": {
    "collapsed": false,
    "pycharm": {
     "name": "#%%\n",
     "is_executing": false
    }
   }
  },
  {
   "cell_type": "code",
   "execution_count": 25,
   "outputs": [],
   "source": [
    "df = df.withColumnRenamed('_c0','Nu').withColumnRenamed('_c1','Title').withColumnRenamed('_c2','Date')\n"
   ],
   "metadata": {
    "collapsed": false,
    "pycharm": {
     "name": "#%%\n",
     "is_executing": false
    }
   }
  },
  {
   "cell_type": "code",
   "execution_count": 26,
   "outputs": [
    {
     "name": "stdout",
     "text": [
      "+---+-----------------+-----------+----+--------------------+\n| Nu|            Title|       Date| _c3|                 _c4|\n+---+-----------------+-----------+----+--------------------+\n|  1| Toy Story (1995)|01-Jan-1995|null|http://us.imdb.co...|\n|  2| GoldenEye (1995)|01-Jan-1995|null|http://us.imdb.co...|\n|  3|Four Rooms (1995)|01-Jan-1995|null|http://us.imdb.co...|\n+---+-----------------+-----------+----+--------------------+\nonly showing top 3 rows\n\n"
     ],
     "output_type": "stream"
    }
   ],
   "source": [
    "df.show(3)"
   ],
   "metadata": {
    "collapsed": false,
    "pycharm": {
     "name": "#%%\n",
     "is_executing": false
    }
   }
  },
  {
   "cell_type": "code",
   "execution_count": 27,
   "outputs": [
    {
     "name": "stdout",
     "text": [
      "+---+-----------------+-----------+----+--------------------+------+\n| Nu|            Title|       Date| _c3|                 _c4|length|\n+---+-----------------+-----------+----+--------------------+------+\n|  1| Toy Story (1995)|01-Jan-1995|null|http://us.imdb.co...|    16|\n|  2| GoldenEye (1995)|01-Jan-1995|null|http://us.imdb.co...|    16|\n|  3|Four Rooms (1995)|01-Jan-1995|null|http://us.imdb.co...|    17|\n+---+-----------------+-----------+----+--------------------+------+\nonly showing top 3 rows\n\n"
     ],
     "output_type": "stream"
    }
   ],
   "source": [
    "from pyspark.sql.functions import length\n",
    "df = df.withColumn('length', length(df['Title']))\n",
    "df.show(3)\n",
    "\n"
   ],
   "metadata": {
    "collapsed": false,
    "pycharm": {
     "name": "#%%\n",
     "is_executing": false
    }
   }
  },
  {
   "cell_type": "code",
   "execution_count": 28,
   "outputs": [
    {
     "name": "stdout",
     "text": [
      "+---+-----------------+-----------+----+--------------------+------+--------------------+\n| Nu|            Title|       Date| _c3|                 _c4|length|               words|\n+---+-----------------+-----------+----+--------------------+------+--------------------+\n|  1| Toy Story (1995)|01-Jan-1995|null|http://us.imdb.co...|    16|[toy, story, (1995)]|\n|  2| GoldenEye (1995)|01-Jan-1995|null|http://us.imdb.co...|    16| [goldeneye, (1995)]|\n|  3|Four Rooms (1995)|01-Jan-1995|null|http://us.imdb.co...|    17|[four, rooms, (19...|\n|  4|Get Shorty (1995)|01-Jan-1995|null|http://us.imdb.co...|    17|[get, shorty, (19...|\n|  5|   Copycat (1995)|01-Jan-1995|null|http://us.imdb.co...|    14|   [copycat, (1995)]|\n+---+-----------------+-----------+----+--------------------+------+--------------------+\nonly showing top 5 rows\n\n"
     ],
     "output_type": "stream"
    }
   ],
   "source": [
    "tokenizer = Tokenizer(inputCol='Title', outputCol='words')\n",
    "regex_tokenizer = RegexTokenizer(inputCol = 'Text', outputCol = 'words', pattern = '\\\\W')\n",
    "\n",
    "count_tokens = udf(lambda words: len(words), IntegerType())\n",
    "tokenized = tokenizer.transform(df)\n",
    "tokenized.show(5)\n"
   ],
   "metadata": {
    "collapsed": false,
    "pycharm": {
     "name": "#%%\n",
     "is_executing": false
    }
   }
  },
  {
   "cell_type": "code",
   "execution_count": 33,
   "outputs": [
    {
     "name": "stdout",
     "text": [
      "+---+-----------------+-----------+----+--------------------+------+--------------------+--------------------+\n| Nu|            Title|       Date| _c3|                 _c4|length|               words|            filtered|\n+---+-----------------+-----------+----+--------------------+------+--------------------+--------------------+\n|  1| Toy Story (1995)|01-Jan-1995|null|http://us.imdb.co...|    16|[toy, story, (1995)]|[toy, story, (1995)]|\n|  2| GoldenEye (1995)|01-Jan-1995|null|http://us.imdb.co...|    16| [goldeneye, (1995)]| [goldeneye, (1995)]|\n|  3|Four Rooms (1995)|01-Jan-1995|null|http://us.imdb.co...|    17|[four, rooms, (19...|[four, rooms, (19...|\n+---+-----------------+-----------+----+--------------------+------+--------------------+--------------------+\nonly showing top 3 rows\n\n"
     ],
     "output_type": "stream"
    }
   ],
   "source": [
    "from pyspark.ml.feature import StopWordsRemover\n",
    "remover = StopWordsRemover(inputCol = 'words', outputCol = 'filtered')\n",
    "remover.transform(tokenized).show(3)"
   ],
   "metadata": {
    "collapsed": false,
    "pycharm": {
     "name": "#%%\n",
     "is_executing": false
    }
   }
  },
  {
   "cell_type": "code",
   "execution_count": 29,
   "outputs": [],
   "source": [],
   "metadata": {
    "collapsed": false,
    "pycharm": {
     "name": "#%%\n",
     "is_executing": false
    }
   }
  },
  {
   "cell_type": "code",
   "execution_count": null,
   "outputs": [],
   "source": [
    "\n"
   ],
   "metadata": {
    "collapsed": false,
    "pycharm": {
     "name": "#%%\n"
    }
   }
  }
 ],
 "metadata": {
  "kernelspec": {
   "display_name": "Python 3",
   "language": "python",
   "name": "python3"
  },
  "language_info": {
   "codemirror_mode": {
    "name": "ipython",
    "version": 2
   },
   "file_extension": ".py",
   "mimetype": "text/x-python",
   "name": "python",
   "nbconvert_exporter": "python",
   "pygments_lexer": "ipython2",
   "version": "2.7.6"
  },
  "pycharm": {
   "stem_cell": {
    "cell_type": "raw",
    "source": [],
    "metadata": {
     "collapsed": false
    }
   }
  }
 },
 "nbformat": 4,
 "nbformat_minor": 0
}