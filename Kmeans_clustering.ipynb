{
 "cells": [
  {
   "cell_type": "code",
   "execution_count": 2,
   "metadata": {
    "collapsed": true,
    "pycharm": {
     "is_executing": false
    }
   },
   "outputs": [],
   "source": [
    "from pyspark.sql import SparkSession\n"
   ]
  },
  {
   "cell_type": "code",
   "execution_count": 3,
   "outputs": [
    {
     "name": "stdout",
     "text": [
      "root\n |-- CustomerID: integer (nullable = true)\n |-- Genre: string (nullable = true)\n |-- Age: integer (nullable = true)\n |-- Annual Income (k$): integer (nullable = true)\n |-- Spending Score (1-100): integer (nullable = true)\n\n"
     ],
     "output_type": "stream"
    }
   ],
   "source": [
    "spark = SparkSession.builder.appName('cluster').getOrCreate()\n",
    "df = spark.read.csv('Mall_Customers.csv', inferSchema=True, header=True)\n",
    "df.printSchema()"
   ],
   "metadata": {
    "collapsed": false,
    "pycharm": {
     "name": "#%%\n",
     "is_executing": false
    }
   }
  },
  {
   "cell_type": "code",
   "execution_count": 4,
   "outputs": [
    {
     "data": {
      "text/plain": "['CustomerID', 'Genre', 'Age', 'Annual Income (k$)', 'Spending Score (1-100)']"
     },
     "metadata": {},
     "output_type": "execute_result",
     "execution_count": 4
    }
   ],
   "source": [
    "df.columns"
   ],
   "metadata": {
    "collapsed": false,
    "pycharm": {
     "name": "#%%\n",
     "is_executing": false
    }
   }
  },
  {
   "cell_type": "code",
   "execution_count": 5,
   "outputs": [
    {
     "data": {
      "text/plain": "[Row(CustomerID=1, Genre='Male', Age=19, Annual Income (k$)=15, Spending Score (1-100)=39)]"
     },
     "metadata": {},
     "output_type": "execute_result",
     "execution_count": 5
    }
   ],
   "source": [
    "\n",
    "df.take(1)"
   ],
   "metadata": {
    "collapsed": false,
    "pycharm": {
     "name": "#%%\n",
     "is_executing": false
    }
   }
  },
  {
   "cell_type": "code",
   "execution_count": 8,
   "outputs": [
    {
     "name": "stdout",
     "text": [
      "root\n |-- CustomerID: integer (nullable = true)\n |-- Genre: string (nullable = true)\n |-- Age: integer (nullable = true)\n |-- Annual Income (k$): integer (nullable = true)\n |-- Spending Score (1-100): integer (nullable = true)\n |-- features: vector (nullable = true)\n\n"
     ],
     "output_type": "stream"
    }
   ],
   "source": [
    "from pyspark.ml.feature import VectorAssembler\n",
    "\n",
    "assembler = VectorAssembler(inputCols = ['Age',\n",
    " 'Annual Income (k$)',\n",
    " 'Spending Score (1-100)'],\n",
    "outputCol = 'features')\n",
    "final_df = assembler.transform(df)\n",
    "final_df.printSchema()\n"
   ],
   "metadata": {
    "collapsed": false,
    "pycharm": {
     "name": "#%%\n",
     "is_executing": false
    }
   }
  },
  {
   "cell_type": "code",
   "execution_count": 9,
   "outputs": [
    {
     "name": "stdout",
     "text": [
      "root\n |-- CustomerID: integer (nullable = true)\n |-- Genre: string (nullable = true)\n |-- Age: integer (nullable = true)\n |-- Annual Income (k$): integer (nullable = true)\n |-- Spending Score (1-100): integer (nullable = true)\n |-- features: vector (nullable = true)\n |-- scaledFeatures: vector (nullable = true)\n\n"
     ],
     "output_type": "stream"
    }
   ],
   "source": [
    "\n",
    "from pyspark.ml.feature import StandardScaler\n",
    "\n",
    "scaler = StandardScaler(inputCol = 'features', outputCol = 'scaledFeatures')\n",
    "scaler_model = scaler.fit(final_df)\n",
    "final_df = scaler_model.transform(final_df)\n",
    "final_df.printSchema()"
   ],
   "metadata": {
    "collapsed": false,
    "pycharm": {
     "name": "#%%\n",
     "is_executing": false
    }
   }
  },
  {
   "cell_type": "code",
   "execution_count": 10,
   "outputs": [
    {
     "name": "stdout",
     "text": [
      "+----------------+--------------------+\n|        features|      scaledFeatures|\n+----------------+--------------------+\n|[19.0,15.0,39.0]|[1.36015391423519...|\n|[21.0,15.0,81.0]|[1.50332801047048...|\n| [20.0,16.0,6.0]|[1.43174096235284...|\n+----------------+--------------------+\nonly showing top 3 rows\n\n"
     ],
     "output_type": "stream"
    }
   ],
   "source": [
    "\n",
    "final_df.select('features','scaledFeatures').show(3)"
   ],
   "metadata": {
    "collapsed": false,
    "pycharm": {
     "name": "#%%\n",
     "is_executing": false
    }
   }
  },
  {
   "cell_type": "code",
   "execution_count": 11,
   "outputs": [
    {
     "data": {
      "text/plain": "[Row(CustomerID=1, Genre='Male', Age=19, Annual Income (k$)=15, Spending Score (1-100)=39, features=DenseVector([19.0, 15.0, 39.0]), scaledFeatures=DenseVector([1.3602, 0.5711, 1.5103]))]"
     },
     "metadata": {},
     "output_type": "execute_result",
     "execution_count": 11
    }
   ],
   "source": [
    "final_df.take(1)"
   ],
   "metadata": {
    "collapsed": false,
    "pycharm": {
     "name": "#%%\n",
     "is_executing": false
    }
   }
  },
  {
   "cell_type": "code",
   "execution_count": null,
   "outputs": [],
   "source": [
    "\n"
   ],
   "metadata": {
    "collapsed": false,
    "pycharm": {
     "name": "#%%\n"
    }
   }
  }
 ],
 "metadata": {
  "kernelspec": {
   "display_name": "Python 3",
   "language": "python",
   "name": "python3"
  },
  "language_info": {
   "codemirror_mode": {
    "name": "ipython",
    "version": 2
   },
   "file_extension": ".py",
   "mimetype": "text/x-python",
   "name": "python",
   "nbconvert_exporter": "python",
   "pygments_lexer": "ipython2",
   "version": "2.7.6"
  },
  "pycharm": {
   "stem_cell": {
    "cell_type": "raw",
    "source": [],
    "metadata": {
     "collapsed": false
    }
   }
  }
 },
 "nbformat": 4,
 "nbformat_minor": 0
}